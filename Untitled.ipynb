{
 "cells": [
  {
   "cell_type": "code",
   "execution_count": null,
   "id": "df1fefab",
   "metadata": {},
   "outputs": [],
   "source": [
    "import pandas as pd \n",
    "import numpy as np\n",
    "from lightfm import LightFM, cross_validation\n",
    "from lightfm.evaluation import precision_at_k, auc_score\n",
    "from lightfm.data import Dataset\n",
    "import pickle \n",
    "\n",
    "\n"
   ]
  },
  {
   "cell_type": "code",
   "execution_count": null,
   "id": "b00d8a83",
   "metadata": {
    "scrolled": true
   },
   "outputs": [],
   "source": [
    "df1 = pd.read_csv('ratings.csv')\n",
    "df2 = pd.read_csv('movies.csv')\n",
    "df3 = df2.merge(df1, on = 'movieId' ).dropna()\n",
    "df = df3[['userId','movieId','rating']]\n",
    "df4 = df3[['userId','movieId','rating','title','genres']]\n"
   ]
  },
  {
   "cell_type": "code",
   "execution_count": null,
   "id": "6492114d",
   "metadata": {},
   "outputs": [],
   "source": [
    "rating_df = df2.merge(df1, on = 'movieId' ).dropna()\n",
    "rating_df.head()\n"
   ]
  },
  {
   "cell_type": "code",
   "execution_count": null,
   "id": "87049554",
   "metadata": {},
   "outputs": [],
   "source": [
    "df4 = df3[['userId','movieId','rating','title','genres']]\n",
    "df4.head()"
   ]
  },
  {
   "cell_type": "code",
   "execution_count": null,
   "id": "be267bc9",
   "metadata": {},
   "outputs": [],
   "source": []
  },
  {
   "cell_type": "code",
   "execution_count": null,
   "id": "2530f79f",
   "metadata": {},
   "outputs": [],
   "source": [
    "data = Dataset()\n",
    "data.fit(df.userId.unique(), df.movieId.unique())"
   ]
  },
  {
   "cell_type": "code",
   "execution_count": null,
   "id": "d3bb34ab",
   "metadata": {},
   "outputs": [],
   "source": [
    "interactions_matrix, weights_matrix = data.build_interactions([tuple(i) for i in df.values])"
   ]
  },
  {
   "cell_type": "code",
   "execution_count": null,
   "id": "f615af2a",
   "metadata": {},
   "outputs": [],
   "source": [
    "train, test = cross_validation.random_train_test_split(interactions_matrix, test_percentage=0.25, random_state=2022)"
   ]
  },
  {
   "cell_type": "code",
   "execution_count": null,
   "id": "1ea7c24c",
   "metadata": {},
   "outputs": [],
   "source": [
    "train_weight , test_weight = cross_validation.random_train_test_split(weights_matrix, test_percentage=0.25, random_state=2022)"
   ]
  },
  {
   "cell_type": "code",
   "execution_count": null,
   "id": "15142f07",
   "metadata": {},
   "outputs": [],
   "source": []
  },
  {
   "cell_type": "code",
   "execution_count": null,
   "id": "43b36788",
   "metadata": {},
   "outputs": [],
   "source": [
    "model_wrap = LightFM(loss='warp', learning_rate=0.01, k=10)\n",
    "model_wrap.fit(train, sample_weight = train_weight , epochs=150)"
   ]
  },
  {
   "cell_type": "code",
   "execution_count": null,
   "id": "1965b08a",
   "metadata": {},
   "outputs": [],
   "source": [
    "train_precision = precision_at_k(model_wrap, train, k=10).mean()\n",
    "test_precision = precision_at_k(model_wrap, test, k=10, train_interactions=train).mean()\n",
    "\n",
    "train_auc = auc_score(model_wrap, train).mean()\n",
    "test_auc = auc_score(model_wrap, test,train_interactions=train).mean()\n",
    "\n",
    "print('Precision: train %.2f, test %.2f.' % (train_precision, test_precision))\n",
    "print('AUC: train %.2f, test %.2f.' % (train_auc, test_auc))"
   ]
  },
  {
   "cell_type": "code",
   "execution_count": null,
   "id": "03e9bfc7",
   "metadata": {},
   "outputs": [],
   "source": [
    "'''model_wrap = LightFM(loss='warp', learning_rate=0.01, k=10)\n",
    "model_wrap.fit(train, sample_weight = train_weight , epochs=50)'''"
   ]
  },
  {
   "cell_type": "code",
   "execution_count": null,
   "id": "e821c9ba",
   "metadata": {
    "scrolled": true
   },
   "outputs": [],
   "source": [
    "print(repr(train))"
   ]
  },
  {
   "cell_type": "code",
   "execution_count": null,
   "id": "00c313b9",
   "metadata": {},
   "outputs": [],
   "source": []
  },
  {
   "cell_type": "code",
   "execution_count": null,
   "id": "d5d48df6",
   "metadata": {
    "scrolled": false
   },
   "outputs": [],
   "source": [
    "uf = [] \n",
    "col = ['movieId']*len(df4['movieId'].unique()) + ['rating']*len(df4['rating'].unique()) + ['title']*len(df4['title'].unique()) + ['genres']*len(df4['genres'].unique()) \n",
    "unique_f1 = list(df4['movieId'].unique()) + list(df4['rating'].unique()) + list(df4['title'].unique()) + list(df4['genres'].unique()) \n",
    "#print('f1:', unique_f1)\n",
    "for x,y in zip(col, unique_f1):\n",
    "    res = str( x)+ \":\" +str(y)\n",
    "    uf.append(res)\n",
    "    #print(res)\n",
    "                   "
   ]
  },
  {
   "cell_type": "code",
   "execution_count": null,
   "id": "a0b23bf8",
   "metadata": {},
   "outputs": [],
   "source": [
    "data = Dataset()\n",
    "#data.fit(df.userId.unique(), df.movieId.unique())\n",
    "data.fit( \n",
    "        df4['userId'].unique(), \n",
    "        df4.movieId.unique(), # tous les éléments\n",
    "        user_features = uf # fonctionnalités utilisateur supplémentaires\n",
    " )"
   ]
  },
  {
   "cell_type": "code",
   "execution_count": null,
   "id": "63ae1793",
   "metadata": {},
   "outputs": [],
   "source": [
    "interactions_matrix, weights_matrix = data.build_interactions([tuple(i) for i in df.values])"
   ]
  },
  {
   "cell_type": "code",
   "execution_count": null,
   "id": "9ebc61b2",
   "metadata": {},
   "outputs": [],
   "source": [
    "train, test = cross_validation.random_train_test_split(interactions_matrix, test_percentage=0.25, random_state=2022)"
   ]
  },
  {
   "cell_type": "code",
   "execution_count": null,
   "id": "45b18270",
   "metadata": {},
   "outputs": [],
   "source": [
    "train_weight , test_weight = cross_validation.random_train_test_split(weights_matrix, test_percentage=0.25, random_state=2022)"
   ]
  },
  {
   "cell_type": "code",
   "execution_count": null,
   "id": "53f382af",
   "metadata": {},
   "outputs": [],
   "source": [
    "df4.head()"
   ]
  },
  {
   "cell_type": "code",
   "execution_count": null,
   "id": "c8152784",
   "metadata": {},
   "outputs": [],
   "source": [
    "# Helper function that takes the user features and converts them into the proper \"feature:value\" format\n",
    "def feature_colon_value(my_list):\n",
    "    \"\"\"\n",
    "    Takes as input a list and prepends the columns names to respective values in the list.\n",
    "    For example: if my_list = [1,1,0,'del'],\n",
    "    resultant output = ['movieId','rating','title','genres']\n",
    "   \n",
    "    \"\"\"\n",
    "    result = []\n",
    "    ll = ['movieId:','rating:','title:','genres:']\n",
    "    aa = my_list\n",
    "    for x,y in zip(ll,aa):\n",
    "        res = str(x) +\"\"+ str(y)\n",
    "        result.append(res)\n",
    "    return result\n",
    "# Using the helper function to generate user features in proper format for ALL users\n",
    "ad_subset = df4[['movieId','rating','title','genres']] \n",
    "ad_list = [list(x) for x in ad_subset.values]\n",
    "feature_list = []\n",
    "for item in ad_list:\n",
    "    feature_list.append(feature_colon_value(item))\n",
    "#print(f'Final output: {feature_list}')"
   ]
  },
  {
   "cell_type": "code",
   "execution_count": null,
   "id": "7552e448",
   "metadata": {},
   "outputs": [],
   "source": [
    "user_tuple = list(zip(df['userId'], feature_list))"
   ]
  },
  {
   "cell_type": "code",
   "execution_count": null,
   "id": "dda40f62",
   "metadata": {},
   "outputs": [],
   "source": [
    "user_features = data.build_user_features(user_tuple, normalize= False)"
   ]
  },
  {
   "cell_type": "code",
   "execution_count": null,
   "id": "8dd89ca7",
   "metadata": {
    "scrolled": false
   },
   "outputs": [],
   "source": [
    "user_id_map, user_feature_map, movie_id_map, movie_feature_map = data.mapping()\n",
    "user_feature_map"
   ]
  },
  {
   "cell_type": "code",
   "execution_count": null,
   "id": "def97b4b",
   "metadata": {},
   "outputs": [],
   "source": [
    "model = LightFM(loss='warp')\n",
    "model.fit(interactions_matrix,\n",
    "      user_features= user_features,\n",
    "      sample_weight= weights_matrix,\n",
    "      epochs=1)"
   ]
  },
  {
   "cell_type": "code",
   "execution_count": null,
   "id": "e07481f4",
   "metadata": {},
   "outputs": [],
   "source": [
    "train_auc = auc_score(model,\n",
    "                      interactions_matrix,\n",
    "                      user_features=user_features\n",
    "                     ).mean()\n",
    "print('Hybrid training set AUC: %s' % train_auc)\n"
   ]
  },
  {
   "cell_type": "code",
   "execution_count": null,
   "id": "5a8d1b06",
   "metadata": {},
   "outputs": [],
   "source": [
    "# predict for existing user\n",
    "user_x = user_id_map[7]\n",
    "n_users, n_items = interactions_matrix.shape # no of users * no of items\n",
    "model.predict(user_x, np.arange(n_items)) # means predict for all "
   ]
  },
  {
   "cell_type": "code",
   "execution_count": null,
   "id": "ae1cb925",
   "metadata": {},
   "outputs": [],
   "source": [
    "user_feature_list = ['movieId:1', 'rating:1', 'title:Toy Story (1995)', 'genres:Adventure|Animation|Children|Comedy|Fantasy']"
   ]
  },
  {
   "cell_type": "code",
   "execution_count": null,
   "id": "264829c6",
   "metadata": {},
   "outputs": [],
   "source": [
    "from scipy import sparse\n",
    "def format_newuser_input(user_feature_map, user_feature_list):\n",
    "    num_features = len(user_feature_list)\n",
    "    normalised_val = 1.0 \n",
    "    target_indices = []\n",
    "    for feature in user_feature_list:\n",
    "    try:\n",
    "        target_indices.append(user_feature_map[feature])\n",
    "    except KeyError:\n",
    "        print(\"new user feature encountered '{}'\".format(feature))\n",
    "        pass\n",
    "\n",
    "    new_user_features = np.zeros(len(user_feature_map.keys()))\n",
    "    for i in target_indices:\n",
    "    new_user_features[i] = normalised_val\n",
    "    new_user_features = sparse.csr_matrix(new_user_features)\n",
    "    return(new_user_features)"
   ]
  },
  {
   "cell_type": "code",
   "execution_count": null,
   "id": "756c21be",
   "metadata": {},
   "outputs": [],
   "source": [
    "new_user_features = format_newuser_input(user_feature_map, user_feature_list)\n",
    "model.predict(0, np.arange(n_items), user_features=new_user_features)"
   ]
  },
  {
   "cell_type": "code",
   "execution_count": null,
   "id": "c132a5c0",
   "metadata": {},
   "outputs": [],
   "source": [
    "user_id = 1\n",
    "best_rated = rating_df[(rating_df.userId == user_id) & (rating_df.rating >= 4.5)].movieId.values\n",
    "\n",
    "#known_positives = rating_df.loc[rating_df['movieId'].isin(best_rated)].title.values\n",
    "best_rated"
   ]
  },
  {
   "cell_type": "code",
   "execution_count": null,
   "id": "f3937987",
   "metadata": {},
   "outputs": [],
   "source": [
    "scores = model.predict(user_id, np.arange(n_items), user_features=user_features) \n",
    "top_items = rating_df['title'][np.argsort(-scores)]"
   ]
  },
  {
   "cell_type": "code",
   "execution_count": null,
   "id": "0e0a8ac3",
   "metadata": {},
   "outputs": [],
   "source": [
    "def recommend(model, user_id):\n",
    "    n_users, n_items = train.shape\n",
    "    user_id_map, user_feature_map, movie_id_map, movie_feature_map = data.mapping()\n",
    "\n",
    "    user_feature_list = ['movieId:1', 'rating:1', 'title:Toy Story (1995)', 'genres:Adventure|Animation|Children|Comedy|Fantasy']\n",
    "    new_user_features = format_newuser_input(user_feature_map, user_feature_list)\n",
    "\n",
    "\n",
    "    best_rated = rating_df[(rating_df.userId == user_id) & (rating_df.rating >= 4.5)].movieId.values\n",
    "    if best_rated.shape[0] == 0 :\n",
    "        scores = model.predict(0, np.arange(n_items), user_features=new_user_features) \n",
    "        top_items = rating_df['title'][np.argsort(-scores)]\n",
    "        print(\"\\nRecommended:\")\n",
    "        for x in top_items[:10]:\n",
    "            print(x)\n",
    "\n",
    "    else : \n",
    "        known_positives = rating_df.loc[rating_df['movieId'].isin(best_rated)].title.values\n",
    "        scores = model.predict(user_id, np.arange(n_items)) \n",
    "        top_items = rating_df['title'][np.argsort(-scores)]\n",
    "        ls = []\n",
    "        for x in known_positives:\n",
    "            if x not in ls :\n",
    "                ls.append(x)\n",
    "                \n",
    "        print(\"User %s likes:\" % user_id)\n",
    "        for k in ls:\n",
    "            print(k)\n",
    "            \n",
    "        print(\"\\nRecommended:\")\n",
    "        for x in top_items[:10]:\n",
    "            print(x)\n",
    "    \n"
   ]
  },
  {
   "cell_type": "code",
   "execution_count": null,
   "id": "9c60e41e",
   "metadata": {},
   "outputs": [],
   "source": [
    "recommend(model,448)"
   ]
  },
  {
   "cell_type": "raw",
   "id": "5fc4ab1a",
   "metadata": {},
   "source": [
    "ls = \n",
    "ls"
   ]
  },
  {
   "cell_type": "code",
   "execution_count": null,
   "id": "595b3e5c",
   "metadata": {},
   "outputs": [],
   "source": [
    "user_feature_list = ['movieId:1', 'rating:1', 'title:Toy Story (1995)', 'genres:Adventure|Animation|Children|Comedy|Fantasy']\n",
    "new_user_features = format_newuser_input(user_feature_map, user_feature_list)\n",
    "\n",
    "\n",
    "best_rated = rating_df[(rating_df.userId == user_id) & (rating_df.rating >= 4.5)].movieId.values"
   ]
  },
  {
   "cell_type": "code",
   "execution_count": null,
   "id": "f274d40d",
   "metadata": {},
   "outputs": [],
   "source": [
    "best_rated.shape[0] == 0"
   ]
  },
  {
   "cell_type": "code",
   "execution_count": null,
   "id": "21e04ef0",
   "metadata": {},
   "outputs": [],
   "source": [
    "scores = model.predict(0, np.arange(n_items), user_features=new_user_features)"
   ]
  },
  {
   "cell_type": "code",
   "execution_count": null,
   "id": "dfb86790",
   "metadata": {},
   "outputs": [],
   "source": [
    "scores"
   ]
  },
  {
   "cell_type": "code",
   "execution_count": null,
   "id": "dd95cc00",
   "metadata": {},
   "outputs": [],
   "source": [
    "top_items = rating_df['title'][np.argsort(-scores)]\n",
    "print(top_items.to_string())"
   ]
  },
  {
   "cell_type": "code",
   "execution_count": null,
   "id": "c72611d9",
   "metadata": {},
   "outputs": [],
   "source": [
    "for x in top_items[:10]:\n",
    "        print(x)"
   ]
  },
  {
   "cell_type": "code",
   "execution_count": null,
   "id": "d1e38da1",
   "metadata": {},
   "outputs": [],
   "source": [
    "\n",
    "n_users, n_items = train.shape\n",
    "user_id_map, user_feature_map, movie_id_map, movie_feature_map = data.mapping()\n",
    "\n",
    "user_feature_list = ['movieId:1', 'rating:1', 'title:Toy Story (1995)', 'genres:Adventure|Animation|Children|Comedy|Fantasy']\n",
    "new_user_features = format_newuser_input(user_feature_map, user_feature_list)\n",
    "\n",
    "\n",
    "best_rated = rating_df[(rating_df.userId == 1) & (rating_df.rating >= 4.5)].movieId.values\n",
    "if best_rated.shape[0] == 0 :\n",
    "    scores = model.predict(0, np.arange(n_items), user_features=new_user_features) \n",
    "    top_items = rating_df['title'][np.argsort(-scores)]        \n",
    "    print(\"\\nRecommended:\")\n",
    "    for x in top_items[:10]:\n",
    "        print(x)"
   ]
  },
  {
   "cell_type": "code",
   "execution_count": null,
   "id": "510de6b0",
   "metadata": {},
   "outputs": [],
   "source": [
    "best_rated = rating_df[(rating_df.userId == 7) & (rating_df.rating >= 4.5)].movieId.values\n",
    "best_rated"
   ]
  },
  {
   "cell_type": "code",
   "execution_count": null,
   "id": "6dc22b03",
   "metadata": {},
   "outputs": [],
   "source": [
    "known_positives = rating_df.loc[rating_df['movieId'].isin(best_rated)].title.values\n",
    "ls = []\n",
    "for x in known_positives:\n",
    "    if x not in ls :\n",
    "        ls.append(x)\n",
    "ls"
   ]
  }
 ],
 "metadata": {
  "kernelspec": {
   "display_name": "Python 3 (ipykernel)",
   "language": "python",
   "name": "python3"
  },
  "language_info": {
   "codemirror_mode": {
    "name": "ipython",
    "version": 3
   },
   "file_extension": ".py",
   "mimetype": "text/x-python",
   "name": "python",
   "nbconvert_exporter": "python",
   "pygments_lexer": "ipython3",
   "version": "3.9.15"
  }
 },
 "nbformat": 4,
 "nbformat_minor": 5
}
